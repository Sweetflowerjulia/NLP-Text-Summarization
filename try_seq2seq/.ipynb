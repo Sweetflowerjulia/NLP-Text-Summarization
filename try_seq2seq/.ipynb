{
 "cells": [
  {
   "cell_type": "code",
   "execution_count": 85,
   "metadata": {},
   "outputs": [],
   "source": [
    "from tensorflow.keras.models import Model\n",
    "from tensorflow.keras.layers import Input, LSTM, Dense\n",
    "import numpy as np"
   ]
  },
  {
   "cell_type": "code",
   "execution_count": 1,
   "metadata": {},
   "outputs": [],
   "source": []
  },
  {
   "cell_type": "code",
   "execution_count": 4,
   "metadata": {},
   "outputs": [
    {
     "name": "stdout",
     "output_type": "stream",
     "text": [
      "Loaded Stories 568411\n",
      "<class 'list'>\n"
     ]
    }
   ],
   "source": [
    "from pickle import load\n",
    "\n",
    "stories = load(open('../data/review_dataset.pkl', 'rb'))\n",
    "print('Loaded Stories %d' % len(stories))\n",
    "print(type(stories))"
   ]
  },
  {
   "cell_type": "code",
   "execution_count": 10,
   "metadata": {},
   "outputs": [],
   "source": [
    "# Vectorize the data.\n",
    "input_texts = []\n",
    "target_texts = []\n",
    "input_characters = set()\n",
    "target_characters = set()\n",
    "#n =0\n",
    "#m = 0\n",
    "\n",
    "for story in stories:\n",
    "    input_text = story['story']\n",
    "#    if n<3:\n",
    "#        print('first round input_text', input_text)\n",
    "    target_text = ''\n",
    "    for highlight in story['highlights']:\n",
    "        target_text += highlight\n",
    "#        if n<5:\n",
    "#            print('target_text inside for loop',target_text)\n",
    "#            n += 1\n",
    "\n",
    "    # We use \"tab\" as the \"start sequence\" character\n",
    "    # for the targets, and \"\\n\" as \"end sequence\" character.\n",
    "    target_text = '\\t' + target_text + '\\n'\n",
    "#    if m<3:\n",
    "#        print('target_text after tn',target_text)\n",
    "    input_texts.append(input_text)\n",
    "    target_texts.append(target_text)\n",
    "#    if m<3:\n",
    "#        print('target_text after append',target_text)  \n",
    "#        print('input_text after append',input_text)\n",
    "#        m +=1\n",
    "    for char in input_text:\n",
    "        if char not in input_characters:\n",
    "            input_characters.add(char)\n",
    "    for char in target_text:\n",
    "        if char not in target_characters:\n",
    "            target_characters.add(char)\n"
   ]
  },
  {
   "cell_type": "code",
   "execution_count": 62,
   "metadata": {},
   "outputs": [],
   "source": [
    "###\n",
    "input_texts = input_texts[0:10000]"
   ]
  },
  {
   "cell_type": "code",
   "execution_count": 63,
   "metadata": {},
   "outputs": [
    {
     "data": {
      "text/plain": [
       "10000"
      ]
     },
     "execution_count": 63,
     "metadata": {},
     "output_type": "execute_result"
    }
   ],
   "source": [
    "len(input_texts)"
   ]
  },
  {
   "cell_type": "code",
   "execution_count": 64,
   "metadata": {},
   "outputs": [
    {
     "name": "stdout",
     "output_type": "stream",
     "text": [
      "Number of samples: 10000\n",
      "Number of unique input tokens: 84\n",
      "Number of unique output tokens: 58\n",
      "Max sequence length for inputs: 5437\n",
      "Max sequence length for outputs: 132\n"
     ]
    }
   ],
   "source": [
    "input_characters = sorted(list(input_characters))\n",
    "target_characters = sorted(list(target_characters))\n",
    "num_encoder_tokens = len(input_characters)\n",
    "num_decoder_tokens = len(target_characters)\n",
    "max_encoder_seq_length = max([len(txt) for txt in input_texts])\n",
    "max_decoder_seq_length = max([len(txt) for txt in target_texts])\n",
    "\n",
    "print('Number of samples:', len(input_texts))\n",
    "print('Number of unique input tokens:', num_encoder_tokens)\n",
    "print('Number of unique output tokens:', num_decoder_tokens)\n",
    "print('Max sequence length for inputs:', max_encoder_seq_length)\n",
    "print('Max sequence length for outputs:', max_decoder_seq_length)\n"
   ]
  },
  {
   "cell_type": "code",
   "execution_count": 69,
   "metadata": {},
   "outputs": [],
   "source": [
    "num_sample = len(input_texts)"
   ]
  },
  {
   "cell_type": "code",
   "execution_count": 70,
   "metadata": {},
   "outputs": [],
   "source": [
    "input_token_index = dict(\n",
    "    [(char, i) for i, char in enumerate(input_characters)])\n",
    "target_token_index = dict(\n",
    "    [(char, i) for i, char in enumerate(target_characters)])"
   ]
  },
  {
   "cell_type": "code",
   "execution_count": 71,
   "metadata": {},
   "outputs": [],
   "source": [
    "encoder_input_data = np.zeros(\n",
    "    (num_sample, max_encoder_seq_length, num_encoder_tokens), \n",
    "    dtype ='float32')"
   ]
  },
  {
   "cell_type": "code",
   "execution_count": 72,
   "metadata": {},
   "outputs": [],
   "source": [
    "decoder_input_data = np.zeros(\n",
    "    (num_sample, max_decoder_seq_length, num_decoder_tokens),\n",
    "    dtype='float32')\n",
    "decoder_target_data = np.zeros(\n",
    "    (num_sample, max_decoder_seq_length, num_decoder_tokens),\n",
    "    dtype='float32')"
   ]
  },
  {
   "cell_type": "code",
   "execution_count": 73,
   "metadata": {},
   "outputs": [],
   "source": [
    "for i, (input_text, target_text) in enumerate(zip(input_texts, target_texts)):\n",
    "    for t, char in enumerate(input_text):\n",
    "        encoder_input_data[i, t, input_token_index[char]] = 1.\n",
    "    for t, char in enumerate(target_text):\n",
    "        # decoder_target_data is ahead of decoder_input_data by one timestep\n",
    "        decoder_input_data[i, t, target_token_index[char]] = 1.\n",
    "        if t > 0:\n",
    "            # decoder_target_data will be ahead by one timestep\n",
    "            # and will not include the start character.\n",
    "            decoder_target_data[i, t - 1, target_token_index[char]] = 1.\n"
   ]
  },
  {
   "cell_type": "code",
   "execution_count": null,
   "metadata": {},
   "outputs": [],
   "source": []
  },
  {
   "cell_type": "code",
   "execution_count": 2,
   "metadata": {},
   "outputs": [],
   "source": [
    "###Try new\n",
    "import numpy as np\n",
    "import csv\n",
    "import tensorflow as tf\n",
    "from tensorflow.keras.models import Sequential, Model"
   ]
  },
  {
   "cell_type": "code",
   "execution_count": 3,
   "metadata": {},
   "outputs": [],
   "source": [
    "# load dataset\n",
    "with open('../data/food_review.csv') as f:\n",
    "    reader = csv.reader(f)\n",
    "    l = list(reader)"
   ]
  },
  {
   "cell_type": "code",
   "execution_count": 4,
   "metadata": {},
   "outputs": [],
   "source": [
    "en = list()\n",
    "de = list()\n",
    "for i in range(1, len(l)):\n",
    "    en.append(l[i][0])\n",
    "    de.append(l[i][1])"
   ]
  },
  {
   "cell_type": "code",
   "execution_count": 5,
   "metadata": {},
   "outputs": [],
   "source": [
    "en = en[0:10000]\n",
    "de = de[0:10000]"
   ]
  },
  {
   "cell_type": "code",
   "execution_count": 21,
   "metadata": {},
   "outputs": [],
   "source": [
    "# Max sequence length for inputs: 5437\n",
    "# Max sequence length for outputs: 132\n",
    "max_encoder_seq_length = 5437\n",
    "max_decoder_seq_length = 132"
   ]
  },
  {
   "cell_type": "code",
   "execution_count": 51,
   "metadata": {},
   "outputs": [],
   "source": [
    "from tensorflow import keras\n",
    "from tensorflow.keras.preprocessing.text import Tokenizer\n",
    "from tensorflow.keras.preprocessing.sequence import pad_sequences\n",
    "from tensorflow.keras import utils"
   ]
  },
  {
   "cell_type": "code",
   "execution_count": 23,
   "metadata": {},
   "outputs": [],
   "source": [
    "# ##\n",
    "# # tokenizer = Tokenizer() #num_words= vocabulary_size\n",
    "# # tokenizer.fit_on_texts(all_glove_words) #data_df['phrase']\n",
    "\n",
    "# en_tokenize = Tokenizer(num_words=max_encoder_seq_length, char_level=True)\n",
    "# en_tokenize.fit_on_texts(en) \n",
    "# en_token = en_tokenize.texts_to_matrix(en)\n",
    "\n",
    "# de_tokenize = Tokenizer(num_words=max_decoder_seq_length, char_level=True)\n",
    "# de_tokenize.fit_on_texts(de) \n",
    "# de_token = de_tokenize.texts_to_matrix(de)"
   ]
  },
  {
   "cell_type": "code",
   "execution_count": 36,
   "metadata": {},
   "outputs": [
    {
     "data": {
      "text/plain": [
       "(10000, 132)"
      ]
     },
     "execution_count": 36,
     "metadata": {},
     "output_type": "execute_result"
    }
   ],
   "source": [
    "de_token.shape"
   ]
  },
  {
   "cell_type": "code",
   "execution_count": 35,
   "metadata": {},
   "outputs": [
    {
     "data": {
      "text/plain": [
       "array([0., 1., 0., 1., 1., 1., 0., 0., 1., 0., 1., 0., 1., 1., 0., 1., 1.,\n",
       "       1., 0., 0., 0., 0., 0., 0., 0., 0., 0., 1., 0., 0., 0., 0., 0., 0.,\n",
       "       0., 0., 0., 0., 0., 0., 0., 0., 0., 0., 0., 0., 0., 0., 0., 0., 0.,\n",
       "       0., 0., 0., 0., 0., 0., 0., 0., 0., 0., 0., 0., 0., 0., 0., 0., 0.,\n",
       "       0., 0., 0., 0., 0., 0., 0., 0., 0., 0., 0., 0., 0., 0., 0., 0., 0.,\n",
       "       0., 0., 0., 0., 0., 0., 0., 0., 0., 0., 0., 0., 0., 0., 0., 0., 0.,\n",
       "       0., 0., 0., 0., 0., 0., 0., 0., 0., 0., 0., 0., 0., 0., 0., 0., 0.,\n",
       "       0., 0., 0., 0., 0., 0., 0., 0., 0., 0., 0., 0., 0.])"
      ]
     },
     "execution_count": 35,
     "metadata": {},
     "output_type": "execute_result"
    }
   ],
   "source": [
    "de_token[0]"
   ]
  },
  {
   "cell_type": "code",
   "execution_count": null,
   "metadata": {},
   "outputs": [],
   "source": [
    "# # Use sklearn utility to convert label strings to numbered index\n",
    "# encoder = LabelEncoder()\n",
    "# encoder.fit(allwords)\n",
    "# y_train = encoder.transform(train_label)\n",
    "# y_test = encoder.transform(test_label)\n",
    "\n",
    "# # Converts the labels to a one-hot representation\n",
    "# num_classes = np.max(y_train) + 1\n",
    "# y_train = utils.to_categorical(y_train, num_classes)\n",
    "# y_test = utils.to_categorical(y_test, num_classes)"
   ]
  },
  {
   "cell_type": "code",
   "execution_count": null,
   "metadata": {},
   "outputs": [],
   "source": []
  },
  {
   "cell_type": "code",
   "execution_count": 49,
   "metadata": {},
   "outputs": [],
   "source": [
    "### New \n",
    "\n",
    "tokenizer = Tokenizer(num_words=max_encoder_seq_length, char_level=True)\n",
    "tokenizer.fit_on_texts(en+de)"
   ]
  },
  {
   "cell_type": "code",
   "execution_count": 79,
   "metadata": {},
   "outputs": [],
   "source": [
    "# Max sequence length for inputs: 5437\n",
    "# Max sequence length for outputs: 132\n",
    "max_encoder_seq_length = 5437\n",
    "max_decoder_seq_length = 132"
   ]
  },
  {
   "cell_type": "code",
   "execution_count": 80,
   "metadata": {},
   "outputs": [],
   "source": [
    "source_token = tokenizer.texts_to_sequences(en)\n",
    "target_token = tokenizer.texts_to_sequences(de)\n",
    "# target_in_token = [0] + target_token[:-1]\n",
    "\n",
    "source_padded = pad_sequences(source_token, maxlen=max_encoder_seq_length, padding = \"post\")\n",
    "target_padded = pad_sequences(target_token, maxlen=max_decoder_seq_length, padding = \"post\")\n"
   ]
  },
  {
   "cell_type": "code",
   "execution_count": 69,
   "metadata": {},
   "outputs": [
    {
     "name": "stdout",
     "output_type": "stream",
     "text": [
      "17\n",
      "[9, 5, 4, 1, 3, 7, 1, 3, 11, 23, 2, 6, 4, 8, 7, 2, 11]\n"
     ]
    }
   ],
   "source": [
    "print(len(target_in_token[2]))\n",
    "print((target_in_token[2]))\n",
    "# print(len(source_padded[0]))\n",
    "# print(source_padded[0])"
   ]
  },
  {
   "cell_type": "code",
   "execution_count": null,
   "metadata": {},
   "outputs": [],
   "source": [
    "# encoder_input_data\n",
    "# decoder_input_data\n",
    "# decoder_target_data"
   ]
  },
  {
   "cell_type": "code",
   "execution_count": 1,
   "metadata": {},
   "outputs": [
    {
     "ename": "NameError",
     "evalue": "name 'source_padded' is not defined",
     "output_type": "error",
     "traceback": [
      "\u001b[0;31m---------------------------------------------------------------------------\u001b[0m",
      "\u001b[0;31mNameError\u001b[0m                                 Traceback (most recent call last)",
      "\u001b[0;32m<ipython-input-1-b30d0719fd84>\u001b[0m in \u001b[0;36m<module>\u001b[0;34m\u001b[0m\n\u001b[1;32m     19\u001b[0m \u001b[0;32mfor\u001b[0m \u001b[0mi\u001b[0m \u001b[0;32min\u001b[0m \u001b[0mrange\u001b[0m\u001b[0;34m(\u001b[0m\u001b[0mn_samples\u001b[0m\u001b[0;34m)\u001b[0m\u001b[0;34m:\u001b[0m\u001b[0;34m\u001b[0m\u001b[0m\n\u001b[1;32m     20\u001b[0m \u001b[0;31m# generate source sequence\u001b[0m\u001b[0;34m\u001b[0m\u001b[0;34m\u001b[0m\u001b[0m\n\u001b[0;32m---> 21\u001b[0;31m     \u001b[0msource\u001b[0m \u001b[0;34m=\u001b[0m \u001b[0msource_padded\u001b[0m\u001b[0;34m[\u001b[0m\u001b[0mi\u001b[0m\u001b[0;34m]\u001b[0m \u001b[0;31m#generate_sequence(n_in, cardinality)\u001b[0m\u001b[0;34m\u001b[0m\u001b[0m\n\u001b[0m\u001b[1;32m     22\u001b[0m \u001b[0;31m#     print('source',source)\u001b[0m\u001b[0;34m\u001b[0m\u001b[0;34m\u001b[0m\u001b[0m\n\u001b[1;32m     23\u001b[0m     \u001b[0;31m# define target sequence\u001b[0m\u001b[0;34m\u001b[0m\u001b[0;34m\u001b[0m\u001b[0m\n",
      "\u001b[0;31mNameError\u001b[0m: name 'source_padded' is not defined"
     ]
    }
   ],
   "source": [
    "###Final!!!!!\n",
    "# # generate a sequence of random integers\n",
    "# def generate_sequence(length, n_unique):\n",
    "#     return [randint(1, n_unique-1) for _ in range(length)]\n",
    "\n",
    "# cardinality = 89 + 1\n",
    "# n_in = 6\n",
    "# n_out = 3\n",
    "n_samples =2\n",
    "\n",
    "# Number of unique input tokens: 84\n",
    "# Number of unique output tokens: 58\n",
    "num_encoder_tokens = 84\n",
    "num_decoder_tokens = 58\n",
    "\n",
    "# prepare data for the LSTM\n",
    "\n",
    "X1, X2, y = list(), list(), list()\n",
    "for i in range(n_samples):\n",
    "# generate source sequence\n",
    "    source = source_padded[i] #generate_sequence(n_in, cardinality)\n",
    "#     print('source',source)\n",
    "    # define target sequence\n",
    "    target = target_padded[i] #source[:n_out]\n",
    "#     target.reverse()\n",
    "#     print('target',target)\n",
    "    # create padded input target sequence\n",
    "    target_in = [0] + target[:-1]\n",
    "#     print('target_in', target_in)\n",
    "    # encode\n",
    "    src_encoded = to_categorical(source, num_classes=num_encoder_tokens)\n",
    "    tar_encoded = to_categorical(target, num_classes=num_decoder_tokens)\n",
    "    tar2_encoded = to_categorical(target_in, num_classes=num_decoder_tokens)\n",
    "#     print(src_encoded.shape)\n",
    "#     print('src_encoded',src_encoded)\n",
    "    # store\n",
    "    X1.append(src_encoded)\n",
    "    X2.append(tar2_encoded)\n",
    "    y.append(tar_encoded)\n",
    "#     print(array(X1))\n",
    "    \n",
    "# X1 = array(X1)\n",
    "# X2 = array(X2)\n",
    "# y = array(y)\n",
    "encoder_input_data = array(X1)\n",
    "decoder_input_data = array(X2)\n",
    "decoder_target_data = array(y)\n",
    "\n",
    "print(encoder_input_data.shape)\n",
    "print(decoder_input_data.shape)\n",
    "print(decoder_target_data.shape)\n",
    "\n",
    "# # decode a one hot encoded string\n",
    "# def one_hot_decode(encoded_seq):\n",
    "#     return [argmax(vector) for vector in encoded_seq]\n",
    " \n",
    "\n",
    "# print(X1.shape, X2.shape, y.shape)\n",
    "# print('X1=%s, X2=%s, y=%s' % (one_hot_decode(X1[0]), one_hot_decode(X2[0]), one_hot_decode(y[0])))"
   ]
  },
  {
   "cell_type": "code",
   "execution_count": 95,
   "metadata": {},
   "outputs": [
    {
     "name": "stdout",
     "output_type": "stream",
     "text": [
      "(1, 5437, 84)\n"
     ]
    }
   ],
   "source": [
    "# print(X1[1].shape)"
   ]
  },
  {
   "cell_type": "code",
   "execution_count": null,
   "metadata": {},
   "outputs": [],
   "source": [
    "import numpy as np"
   ]
  },
  {
   "cell_type": "code",
   "execution_count": 13,
   "metadata": {},
   "outputs": [
    {
     "name": "stdout",
     "output_type": "stream",
     "text": [
      "3\n",
      "<class 'list'>\n",
      "target [5, 9, 28]\n",
      "3\n",
      "<class 'list'>\n",
      "target_in [0, 5, 9]\n",
      "(1, 6, 51) (1, 3, 51) (1, 3, 51)\n"
     ]
    }
   ],
   "source": [
    "from random import randint\n",
    "from numpy import array\n",
    "from tensorflow.keras.utils import to_categorical\n",
    "\n",
    "# generate a sequence of random integers\n",
    "def generate_sequence(length, n_unique):\n",
    "    return [randint(1, n_unique-1) for _ in range(length)]\n",
    "\n",
    "cardinality = 50 + 1\n",
    "n_in = 6\n",
    "n_out = 3\n",
    "n_samples =1\n",
    "\n",
    "\n",
    "# prepare data for the LSTM\n",
    "\n",
    "X1, X2, y = list(), list(), list()\n",
    "def get_dataset(n_in, n_out, cardinality, n_samples):\n",
    "    for _ in range(n_samples):\n",
    "    # generate source sequence\n",
    "        source = generate_sequence(n_in, cardinality) #generate_sequence(n_in, cardinality)\n",
    "#         print('source',source)\n",
    "        # define target sequence\n",
    "        target = source[:n_out] #source[:n_out]\n",
    "        target.reverse()\n",
    "        print(len(target))\n",
    "        print(type(target))\n",
    "        print('target',target)\n",
    "        # create padded input target sequence\n",
    "        target_in = [0] + target[:-1]\n",
    "        print(len(target_in))\n",
    "        print(type(target_in))\n",
    "        print('target_in', target_in)\n",
    "        # encode\n",
    "        src_encoded = to_categorical(source, num_classes=cardinality)\n",
    "        tar_encoded = to_categorical(target, num_classes=cardinality)\n",
    "        tar2_encoded = to_categorical(target_in, num_classes=cardinality)\n",
    "#         print(src_encoded.shape)\n",
    "#         print('src_encoded',src_encoded)\n",
    "        # store\n",
    "        X1.append(src_encoded)\n",
    "        X2.append(tar2_encoded)\n",
    "        y.append(tar_encoded)\n",
    "    return array(X1), array(X2), array(y)\n",
    "X1, X2, y = get_dataset(n_in, n_out, cardinality, n_samples)\n",
    "\n",
    "# print(X1.shape, '\\n', X2.shape, '\\n',y.shape)\n",
    "# X1 = np.asarray(X1)\n",
    "# X2 = np.asarray(X2)\n",
    "# y = np.asarray(y)\n",
    "\n",
    "# print(array(X1).shape)\n",
    "\n",
    "# # # decode a one hot encoded string\n",
    "# # def one_hot_decode(encoded_seq):\n",
    "# #     return [argmax(vector) for vector in encoded_seq]\n",
    " \n",
    "\n",
    "print(X1.shape, X2.shape, y.shape)\n",
    "# # print('X1=%s, X2=%s, y=%s' % (one_hot_decode(X1[0]), one_hot_decode(X2[0]), one_hot_decode(y[0])))"
   ]
  },
  {
   "cell_type": "code",
   "execution_count": null,
   "metadata": {},
   "outputs": [
    {
     "name": "stdout",
     "output_type": "stream",
     "text": [
      "(100000, 6, 51) (100000, 3, 51) (100000, 3, 51)\n",
      "WARNING:tensorflow:From /usr/local/lib/python3.5/dist-packages/tensorflow/python/ops/math_ops.py:3066: to_int32 (from tensorflow.python.ops.math_ops) is deprecated and will be removed in a future version.\n",
      "Instructions for updating:\n",
      "Use tf.cast instead.\n",
      "WARNING:tensorflow:From /usr/local/lib/python3.5/dist-packages/tensorflow/python/ops/math_grad.py:102: div (from tensorflow.python.ops.math_ops) is deprecated and will be removed in a future version.\n",
      "Instructions for updating:\n",
      "Deprecated in favor of operator or tf.math.divide.\n"
     ]
    }
   ],
   "source": [
    "from random import randint\n",
    "from numpy import array\n",
    "from numpy import argmax\n",
    "from numpy import array_equal\n",
    "from tensorflow.keras.utils import to_categorical\n",
    "from tensorflow.keras.models import Model\n",
    "from tensorflow.keras.layers import Input\n",
    "from tensorflow.keras.layers import LSTM\n",
    "from tensorflow.keras.layers import Dense\n",
    " \n",
    "# generate a sequence of random integers\n",
    "def generate_sequence(length, n_unique):\n",
    "    return [randint(1, n_unique-1) for _ in range(length)]\n",
    " \n",
    "# prepare data for the LSTM\n",
    "def get_dataset(n_in, n_out, cardinality, n_samples):\n",
    "    X1, X2, y = list(), list(), list()\n",
    "    for _ in range(n_samples):\n",
    "        # generate source sequence\n",
    "        source = generate_sequence(n_in, cardinality)\n",
    "        # define padded target sequence\n",
    "        target = source[:n_out]\n",
    "        target.reverse()\n",
    "        # create padded input target sequence\n",
    "        target_in = [0] + target[:-1]\n",
    "        # encode\n",
    "        src_encoded = to_categorical(source, num_classes=cardinality)\n",
    "        tar_encoded = to_categorical(target, num_classes=cardinality)\n",
    "        tar2_encoded = to_categorical(target_in, num_classes=cardinality)\n",
    "        # store\n",
    "        X1.append(src_encoded)\n",
    "        X2.append(tar2_encoded)\n",
    "        y.append(tar_encoded)\n",
    "    return array(X1), array(X2), array(y)\n",
    " \n",
    "# returns train, inference_encoder and inference_decoder models\n",
    "def define_models(n_input, n_output, n_units):\n",
    "    # define training encoder\n",
    "    encoder_inputs = Input(shape=(None, n_input))\n",
    "    encoder = LSTM(n_units, return_state=True)\n",
    "    encoder_outputs, state_h, state_c = encoder(encoder_inputs)\n",
    "    encoder_states = [state_h, state_c]\n",
    "    # define training decoder\n",
    "    decoder_inputs = Input(shape=(None, n_output))\n",
    "    decoder_lstm = LSTM(n_units, return_sequences=True, return_state=True)\n",
    "    decoder_outputs, _, _ = decoder_lstm(decoder_inputs, initial_state=encoder_states)\n",
    "    decoder_dense = Dense(n_output, activation='softmax')\n",
    "    decoder_outputs = decoder_dense(decoder_outputs)\n",
    "    model = Model([encoder_inputs, decoder_inputs], decoder_outputs)\n",
    "    # define inference encoder\n",
    "    encoder_model = Model(encoder_inputs, encoder_states)\n",
    "    # define inference decoder\n",
    "    decoder_state_input_h = Input(shape=(n_units,))\n",
    "    decoder_state_input_c = Input(shape=(n_units,))\n",
    "    decoder_states_inputs = [decoder_state_input_h, decoder_state_input_c]\n",
    "    decoder_outputs, state_h, state_c = decoder_lstm(decoder_inputs, initial_state=decoder_states_inputs)\n",
    "    decoder_states = [state_h, state_c]\n",
    "    decoder_outputs = decoder_dense(decoder_outputs)\n",
    "    decoder_model = Model([decoder_inputs] + decoder_states_inputs, [decoder_outputs] + decoder_states)\n",
    "    # return all models\n",
    "    return model, encoder_model, decoder_model\n",
    " \n",
    "# # generate target given source sequence\n",
    "# def predict_sequence(infenc, infdec, source, n_steps, cardinality):\n",
    "# \t# encode\n",
    "# \tstate = infenc.predict(source)\n",
    "# \t# start of sequence input\n",
    "# \ttarget_seq = array([0.0 for _ in range(cardinality)]).reshape(1, 1, cardinality)\n",
    "# \t# collect predictions\n",
    "# \toutput = list()\n",
    "# \tfor t in range(n_steps):\n",
    "# \t\t# predict next char\n",
    "# \t\tyhat, h, c = infdec.predict([target_seq] + state)\n",
    "# \t\t# store prediction\n",
    "# \t\toutput.append(yhat[0,0,:])\n",
    "# \t\t# update state\n",
    "# \t\tstate = [h, c]\n",
    "# \t\t# update target sequence\n",
    "# \t\ttarget_seq = yhat\n",
    "# \treturn array(output)\n",
    " \n",
    "# # decode a one hot encoded string\n",
    "# def one_hot_decode(encoded_seq):\n",
    "# \treturn [argmax(vector) for vector in encoded_seq]\n",
    " \n",
    "# configure problem\n",
    "n_features = 50 + 1\n",
    "n_steps_in = 6\n",
    "n_steps_out = 3\n",
    "# define model\n",
    "train, infenc, infdec = define_models(n_features, n_features, 128)\n",
    "train.compile(optimizer='adam', loss='categorical_crossentropy', metrics=['acc'])\n",
    "# generate training dataset\n",
    "X1, X2, y = get_dataset(n_steps_in, n_steps_out, n_features, 100000)\n",
    "print(X1.shape,X2.shape,y.shape)\n",
    "# train model\n",
    "train.fit([X1, X2], y, epochs=1)"
   ]
  },
  {
   "cell_type": "code",
   "execution_count": 110,
   "metadata": {},
   "outputs": [
    {
     "name": "stdout",
     "output_type": "stream",
     "text": [
      "a <class 'list'>\n",
      "<class 'list'>\n",
      "[8, 20, 27, 19, 41, 39]\n",
      "(6, 51)\n",
      "(1, 6, 51) (1, 1, 3, 51) (1, 1, 3, 51)\n",
      "X1=[8, 20, 27, 19, 41, 39], X2=[0], y=[27]\n"
     ]
    }
   ],
   "source": [
    "# from random import randint\n",
    "# from numpy import array\n",
    "# from numpy import argmax\n",
    "# from tensorflow.keras.utils import to_categorical\n",
    " \n",
    "# # generate a sequence of random integers\n",
    "# def generate_sequence(length, n_unique):\n",
    "#     a = [randint(1, n_unique-1) for _ in range(length)]\n",
    "#     print('a', type(a))\n",
    "#     return a\n",
    " \n",
    "# # prepare data for the LSTM\n",
    "# def get_dataset(n_in, n_out, cardinality, n_samples):\n",
    "#     X1, X2, y = list(), list(), list()\n",
    "#     for _ in range(n_samples):\n",
    "#     # generate source sequence\n",
    "#         source = generate_sequence(n_in, cardinality)\n",
    "#         # define target sequence\n",
    "#         target = source[:n_out]\n",
    "#         target.reverse()\n",
    "#         # create padded input target sequence\n",
    "#         target_in = [0] + target[:-1]\n",
    "#         # encode\n",
    "#         print(type(source))\n",
    "#         print(source)\n",
    "#         src_encoded = to_categorical(source, num_classes=cardinality)\n",
    "#         tar_encoded = to_categorical([target], num_classes=cardinality)\n",
    "#         tar2_encoded = to_categorical([target_in], num_classes=cardinality)\n",
    "#         # store\n",
    "#         print(src_encoded.shape)\n",
    "#         X1.append(src_encoded)\n",
    "#         X2.append(tar2_encoded)\n",
    "#         y.append(tar_encoded)\n",
    "#     return array(X1), array(X2), array(y)\n",
    " \n",
    "# # decode a one hot encoded string\n",
    "# def one_hot_decode(encoded_seq):\n",
    "#     return [argmax(vector) for vector in encoded_seq]\n",
    " \n",
    "# # configure problem\n",
    "# n_features = 50 + 1\n",
    "# n_steps_in = 6\n",
    "# n_steps_out = 3\n",
    "# # generate a single source and target sequence\n",
    "# X1, X2, y = get_dataset(n_steps_in, n_steps_out, n_features, 1)\n",
    "# print(X1.shape, X2.shape, y.shape)\n",
    "# print('X1=%s, X2=%s, y=%s' % (one_hot_decode(X1[0]), one_hot_decode(X2[0]), one_hot_decode(y[0])))"
   ]
  },
  {
   "cell_type": "code",
   "execution_count": null,
   "metadata": {},
   "outputs": [],
   "source": []
  },
  {
   "cell_type": "code",
   "execution_count": null,
   "metadata": {},
   "outputs": [],
   "source": []
  },
  {
   "cell_type": "code",
   "execution_count": null,
   "metadata": {},
   "outputs": [],
   "source": []
  },
  {
   "cell_type": "code",
   "execution_count": 114,
   "metadata": {},
   "outputs": [],
   "source": []
  },
  {
   "cell_type": "code",
   "execution_count": 115,
   "metadata": {},
   "outputs": [],
   "source": [
    "batch_size = 64  # Batch size for training.\n",
    "epochs = 30  # Number of epochs to train for.\n",
    "latent_dim = 256  # Latent dimensionality of the encoding space.\n",
    "num_samples = 10000  # Number of samples to train on.\n",
    "# Path to the data txt file on disk."
   ]
  },
  {
   "cell_type": "code",
   "execution_count": 116,
   "metadata": {},
   "outputs": [],
   "source": [
    "# Define an input sequence and process it.\n",
    "encoder_inputs = Input(shape=(None, num_encoder_tokens))\n",
    "encoder = LSTM(latent_dim, return_state=True)\n",
    "encoder_outputs, state_h, state_c = encoder(encoder_inputs)\n",
    "# We discard `encoder_outputs` and only keep the states.\n",
    "encoder_states = [state_h, state_c]\n",
    "\n",
    "# Set up the decoder, using `encoder_states` as initial state.\n",
    "decoder_inputs = Input(shape=(None, num_decoder_tokens))\n",
    "# We set up our decoder to return full output sequences,\n",
    "# and to return internal states as well. We don't use the\n",
    "# return states in the training model, but we will use them in inference.\n",
    "decoder_lstm = LSTM(latent_dim, return_sequences=True, return_state=True)\n",
    "decoder_outputs, _, _ = decoder_lstm(decoder_inputs,\n",
    "                                     initial_state=encoder_states)\n",
    "decoder_dense = Dense(num_decoder_tokens, activation='softmax')\n",
    "decoder_outputs = decoder_dense(decoder_outputs)\n"
   ]
  },
  {
   "cell_type": "code",
   "execution_count": 1,
   "metadata": {},
   "outputs": [],
   "source": []
  },
  {
   "cell_type": "code",
   "execution_count": null,
   "metadata": {},
   "outputs": [
    {
     "name": "stdout",
     "output_type": "stream",
     "text": [
      "Train on 8000 samples, validate on 2000 samples\n",
      "WARNING:tensorflow:From /usr/local/lib/python3.5/dist-packages/tensorflow/python/ops/math_ops.py:3066: to_int32 (from tensorflow.python.ops.math_ops) is deprecated and will be removed in a future version.\n",
      "Instructions for updating:\n",
      "Use tf.cast instead.\n",
      "WARNING:tensorflow:From /usr/local/lib/python3.5/dist-packages/tensorflow/python/ops/math_grad.py:102: div (from tensorflow.python.ops.math_ops) is deprecated and will be removed in a future version.\n",
      "Instructions for updating:\n",
      "Deprecated in favor of operator or tf.math.divide.\n",
      "Epoch 1/30\n"
     ]
    }
   ],
   "source": [
    "# Define the model that will turn\n",
    "# `encoder_input_data` & `decoder_input_data` into `decoder_target_data`\n",
    "model = Model([encoder_inputs, decoder_inputs], decoder_outputs)\n",
    "\n",
    "# Run training\n",
    "model.compile(optimizer='rmsprop', loss='categorical_crossentropy')\n",
    "model.fit([encoder_input_data, decoder_input_data], decoder_target_data,\n",
    "          batch_size=batch_size,\n",
    "          epochs=epochs,\n",
    "          validation_split=0.2)\n",
    "# Save model\n",
    "model.save('model2.h5')\n"
   ]
  },
  {
   "cell_type": "code",
   "execution_count": null,
   "metadata": {},
   "outputs": [],
   "source": [
    "# Next: inference mode (sampling).\n",
    "# Here's the drill:\n",
    "# 1) encode input and retrieve initial decoder state\n",
    "# 2) run one step of decoder with this initial state\n",
    "# and a \"start of sequence\" token as target.\n",
    "# Output will be the next target token\n",
    "# 3) Repeat with the current target token and current states\n",
    "\n",
    "# Define sampling models\n",
    "encoder_model = Model(encoder_inputs, encoder_states)\n",
    "\n",
    "decoder_state_input_h = Input(shape=(latent_dim,))\n",
    "decoder_state_input_c = Input(shape=(latent_dim,))\n",
    "decoder_states_inputs = [decoder_state_input_h, decoder_state_input_c]\n",
    "decoder_outputs, state_h, state_c = decoder_lstm(\n",
    "    decoder_inputs, initial_state=decoder_states_inputs)\n",
    "decoder_states = [state_h, state_c]\n",
    "decoder_outputs = decoder_dense(decoder_outputs)\n",
    "decoder_model = Model(\n",
    "    [decoder_inputs] + decoder_states_inputs,\n",
    "    [decoder_outputs] + decoder_states)\n"
   ]
  },
  {
   "cell_type": "code",
   "execution_count": null,
   "metadata": {},
   "outputs": [],
   "source": [
    "# Reverse-lookup token index to decode sequences back to\n",
    "# something readable.\n",
    "reverse_input_char_index = dict(\n",
    "    (i, char) for char, i in input_token_index.items())\n",
    "reverse_target_char_index = dict(\n",
    "    (i, char) for char, i in target_token_index.items())\n"
   ]
  },
  {
   "cell_type": "code",
   "execution_count": null,
   "metadata": {},
   "outputs": [],
   "source": []
  },
  {
   "cell_type": "code",
   "execution_count": null,
   "metadata": {},
   "outputs": [],
   "source": [
    "def define_models(n_input, n_output, n_units):\n",
    "# define training encoder\n",
    "encoder_inputs = Input(shape=(None, n_input))\n",
    "encoder = LSTM(n_units, return_state=True)\n",
    "encoder_outputs, state_h, state_c = encoder(encoder_inputs)\n",
    "encoder_states = [state_h, state_c]\n",
    "# define training decoder\n",
    "decoder_inputs = Input(shape=(None, n_output))\n",
    "decoder_lstm = LSTM(n_units, return_sequences=True, return_state=True)\n",
    "decoder_outputs, _, _ = decoder_lstm(decoder_inputs, initial_state=encoder_states)\n",
    "decoder_dense = Dense(n_output, activation='softmax')\n",
    "decoder_outputs = decoder_dense(decoder_outputs)\n",
    "model = Model([encoder_inputs, decoder_inputs], decoder_outputs)\n",
    "# define inference encoder\n",
    "encoder_model = Model(encoder_inputs, encoder_states)\n",
    "# define inference decoder\n",
    "decoder_state_input_h = Input(shape=(n_units,))\n",
    "decoder_state_input_c = Input(shape=(n_units,))\n",
    "decoder_states_inputs = [decoder_state_input_h, decoder_state_input_c]\n",
    "decoder_outputs, state_h, state_c = decoder_lstm(decoder_inputs,  initial_state=decoder_states_inputs)\n",
    "decoder_states = [state_h, state_c]\n",
    "decoder_outputs = decoder_dense(decoder_outputs)\n",
    "decoder_model = Model([decoder_inputs] + decoder_states_inputs, [decoder_outputs] + decoder_states)\n",
    "# return all models\n",
    "return model, encoder_model, decoder_model"
   ]
  },
  {
   "cell_type": "code",
   "execution_count": null,
   "metadata": {},
   "outputs": [],
   "source": [
    "# Run training\n",
    "model.compile(optimizer='rmsprop', loss='categorical_crossentropy')\n",
    "model.fit([encoder_input_data, decoder_input_data], decoder_target_data,\n",
    "batch_size=batch_size,\n",
    "epochs=epochs,\n",
    "validation_split=0.2)\n",
    "# Save model\n",
    "model.save('/deeplearning-keras/ch09/summarization/model2.h5')"
   ]
  },
  {
   "cell_type": "code",
   "execution_count": null,
   "metadata": {},
   "outputs": [],
   "source": [
    "# generate target given source sequence\n",
    "def predict_sequence(infenc, infdec, source, n_steps, cardinality):\n",
    "# encode\n",
    "state = infenc.predict(source)\n",
    "# start of sequence input\n",
    "target_seq = array([0.0 for _ in range(cardinality)]).reshape(1, 1, cardinality)\n",
    "# collect predictions\n",
    "output = list()\n",
    "for t in range(n_steps):\n",
    "# predict next char\n",
    "yhat, h, c = infdec.predict([target_seq] + state)\n",
    "# store prediction\n",
    "output.append(yhat[0,0,:])\n",
    "# update state\n",
    "state = [h, c]\n",
    "# update target sequence\n",
    "target_seq = yhat\n",
    "return array(output)"
   ]
  },
  {
   "cell_type": "code",
   "execution_count": null,
   "metadata": {},
   "outputs": [],
   "source": []
  },
  {
   "cell_type": "code",
   "execution_count": null,
   "metadata": {},
   "outputs": [],
   "source": []
  },
  {
   "cell_type": "code",
   "execution_count": null,
   "metadata": {},
   "outputs": [],
   "source": [
    "# def decode_sequence(input_seq):\n",
    "#     # Encode the input as state vectors.\n",
    "#     states_value = encoder_model.predict(input_seq)\n",
    "\n",
    "#     # Generate empty target sequence of length 1.\n",
    "#     target_seq = np.zeros((1, 1, num_decoder_tokens))\n",
    "#     # Populate the first character of target sequence with the start character.\n",
    "#     target_seq[0, 0, target_token_index['\\t']] = 1.\n",
    "\n",
    "#     # Sampling loop for a batch of sequences\n",
    "#     # (to simplify, here we assume a batch of size 1).\n",
    "#     stop_condition = False\n",
    "#     decoded_sentence = ''\n",
    "#     while not stop_condition:\n",
    "#         output_tokens, h, c = decoder_model.predict(\n",
    "#             [target_seq] + states_value)\n",
    "\n",
    "#         # Sample a token\n",
    "#         sampled_token_index = np.argmax(output_tokens[0, -1, :])\n",
    "#         sampled_char = reverse_target_char_index[sampled_token_index]\n",
    "#         decoded_sentence += sampled_char\n",
    "\n",
    "#         # Exit condition: either hit max length\n",
    "#         # or find stop character.\n",
    "#         if (sampled_char == '\\n' or\n",
    "#            len(decoded_sentence) > max_decoder_seq_length):\n",
    "#             stop_condition = True\n",
    "\n",
    "#         # Update the target sequence (of length 1).\n",
    "#         target_seq = np.zeros((1, 1, num_decoder_tokens))\n",
    "#         target_seq[0, 0, sampled_token_index] = 1.\n",
    "\n",
    "#         # Update states\n",
    "#         states_value = [h, c]\n",
    "\n",
    "#     return decoded_sentence\n",
    "\n",
    "\n",
    "# for seq_index in range(100):\n",
    "#     # Take one sequence (part of the training set)\n",
    "#     # for trying out decoding.\n",
    "#     input_seq = encoder_input_data[seq_index: seq_index + 1]\n",
    "#     decoded_sentence = decode_sequence(input_seq)\n",
    "#     print('-')\n",
    "#     print('Input sentence:', input_texts[seq_index])\n",
    "#     print('Decoded sentence:', decoded_sentence)\n"
   ]
  }
 ],
 "metadata": {
  "kernelspec": {
   "display_name": "Python 3",
   "language": "python",
   "name": "python3"
  },
  "language_info": {
   "codemirror_mode": {
    "name": "ipython",
    "version": 3
   },
   "file_extension": ".py",
   "mimetype": "text/x-python",
   "name": "python",
   "nbconvert_exporter": "python",
   "pygments_lexer": "ipython3",
   "version": "3.5.2"
  }
 },
 "nbformat": 4,
 "nbformat_minor": 2
}
